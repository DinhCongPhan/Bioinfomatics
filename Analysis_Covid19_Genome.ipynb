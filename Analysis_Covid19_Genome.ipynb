{
 "cells": [
  {
   "cell_type": "code",
   "execution_count": 1,
   "metadata": {},
   "outputs": [],
   "source": [
    "from Bio.Seq import Seq\n"
   ]
  },
  {
   "cell_type": "code",
   "execution_count": 2,
   "metadata": {},
   "outputs": [],
   "source": [
    "seq1 = Seq('ACTCGA')\n",
    "seq2 = Seq('AC')"
   ]
  },
  {
   "cell_type": "markdown",
   "metadata": {},
   "source": [
    "GC Content in DNA"
   ]
  },
  {
   "cell_type": "code",
   "execution_count": 3,
   "metadata": {},
   "outputs": [],
   "source": [
    "from Bio.SeqUtils import GC"
   ]
  },
  {
   "cell_type": "code",
   "execution_count": 4,
   "metadata": {},
   "outputs": [
    {
     "data": {
      "text/plain": [
       "50.0"
      ]
     },
     "execution_count": 4,
     "metadata": {},
     "output_type": "execute_result"
    }
   ],
   "source": [
    "GC(seq1) #use library"
   ]
  },
  {
   "cell_type": "code",
   "execution_count": 5,
   "metadata": {},
   "outputs": [],
   "source": [
    "def gc_content(seq):\n",
    "    result = float(seq.count('G') + seq.count('C'))/len(seq) * 100\n",
    "    return result"
   ]
  },
  {
   "cell_type": "code",
   "execution_count": 6,
   "metadata": {},
   "outputs": [
    {
     "data": {
      "text/plain": [
       "50.0"
      ]
     },
     "execution_count": 6,
     "metadata": {},
     "output_type": "execute_result"
    }
   ],
   "source": [
    "gc_content(seq1)"
   ]
  },
  {
   "cell_type": "code",
   "execution_count": 7,
   "metadata": {},
   "outputs": [],
   "source": [
    "def gc_content1(seq):\n",
    "    gc = [ N for N in seq if N in 'CG']\n",
    "    result = float(len(gc))/len(seq)*100\n",
    "    return result"
   ]
  },
  {
   "cell_type": "code",
   "execution_count": 8,
   "metadata": {},
   "outputs": [
    {
     "data": {
      "text/plain": [
       "50.0"
      ]
     },
     "execution_count": 8,
     "metadata": {},
     "output_type": "execute_result"
    }
   ],
   "source": [
    "gc_content1(seq1)"
   ]
  },
  {
   "cell_type": "markdown",
   "metadata": {},
   "source": [
    "Alignment Tyoes"
   ]
  },
  {
   "cell_type": "code",
   "execution_count": 9,
   "metadata": {},
   "outputs": [],
   "source": [
    "from Bio import pairwise2\n",
    "from Bio.pairwise2 import format_alignment"
   ]
  },
  {
   "cell_type": "code",
   "execution_count": 10,
   "metadata": {},
   "outputs": [],
   "source": [
    "alignments = pairwise2.align.globalxx(seq1, seq2)"
   ]
  },
  {
   "cell_type": "code",
   "execution_count": 11,
   "metadata": {},
   "outputs": [
    {
     "name": "stdout",
     "output_type": "stream",
     "text": [
      "[Alignment(seqA='ACTCGA', seqB='A--C--', score=2.0, start=0, end=6), Alignment(seqA='ACTCGA', seqB='AC----', score=2.0, start=0, end=6)]\n"
     ]
    }
   ],
   "source": [
    "print(alignments)"
   ]
  },
  {
   "cell_type": "code",
   "execution_count": 12,
   "metadata": {},
   "outputs": [
    {
     "name": "stdout",
     "output_type": "stream",
     "text": [
      "ACTCGA\n",
      "|  |  \n",
      "A--C--\n",
      "  Score=2\n",
      "\n"
     ]
    }
   ],
   "source": [
    "print(format_alignment(*alignments[0]))"
   ]
  },
  {
   "cell_type": "code",
   "execution_count": 13,
   "metadata": {},
   "outputs": [
    {
     "name": "stdout",
     "output_type": "stream",
     "text": [
      "ACTCGA\n",
      "||    \n",
      "AC----\n",
      "  Score=2\n",
      "\n"
     ]
    }
   ],
   "source": [
    "print(format_alignment(*alignments[1]))"
   ]
  },
  {
   "cell_type": "code",
   "execution_count": 14,
   "metadata": {},
   "outputs": [
    {
     "name": "stdout",
     "output_type": "stream",
     "text": [
      "ACTCGA\n",
      "|  |  \n",
      "A--C--\n",
      "  Score=2\n",
      "\n",
      "ACTCGA\n",
      "||    \n",
      "AC----\n",
      "  Score=2\n",
      "\n"
     ]
    }
   ],
   "source": [
    "for a in alignments:\n",
    "    print(format_alignment(*a))"
   ]
  },
  {
   "cell_type": "code",
   "execution_count": 15,
   "metadata": {},
   "outputs": [],
   "source": [
    "# Get only the score for one alignments\n",
    "alignments2 = pairwise2.align.globalxx(seq1,seq2,one_alignment_only=True,score_only=True)"
   ]
  },
  {
   "cell_type": "code",
   "execution_count": 16,
   "metadata": {},
   "outputs": [
    {
     "data": {
      "text/plain": [
       "2.0"
      ]
     },
     "execution_count": 16,
     "metadata": {},
     "output_type": "execute_result"
    }
   ],
   "source": [
    "alignments2"
   ]
  },
  {
   "cell_type": "markdown",
   "metadata": {},
   "source": [
    "Check for similarity or percentage of similarity"
   ]
  },
  {
   "cell_type": "code",
   "execution_count": 17,
   "metadata": {},
   "outputs": [
    {
     "data": {
      "text/plain": [
       "33.33333333333333"
      ]
     },
     "execution_count": 17,
     "metadata": {},
     "output_type": "execute_result"
    }
   ],
   "source": [
    "alignments2/len(seq1)*100"
   ]
  },
  {
   "cell_type": "code",
   "execution_count": 18,
   "metadata": {},
   "outputs": [],
   "source": [
    "def haming_distance(lhs, rhs):\n",
    "    return len([(x,y) for x,y in zip(lhs,rhs) if x != y]) # zip giong vi tri"
   ]
  },
  {
   "cell_type": "code",
   "execution_count": 19,
   "metadata": {},
   "outputs": [
    {
     "data": {
      "text/plain": [
       "1"
      ]
     },
     "execution_count": 19,
     "metadata": {},
     "output_type": "execute_result"
    }
   ],
   "source": [
    "haming_distance('ACTTA','ACCTA')"
   ]
  },
  {
   "cell_type": "code",
   "execution_count": 20,
   "metadata": {},
   "outputs": [
    {
     "data": {
      "text/plain": [
       "4"
      ]
     },
     "execution_count": 20,
     "metadata": {},
     "output_type": "execute_result"
    }
   ],
   "source": [
    "haming_distance(seq1,seq1[::-1])  #reverse"
   ]
  },
  {
   "cell_type": "markdown",
   "metadata": {},
   "source": [
    "\n",
    "## Dot Plot\n",
    "* A dot plot is a graphical method that allows the comparison of two biological sequences and identify regions of close similarity between them.\n",
    "* Simplest method - put a dot wherever sequences are identical\n",
    "* Dot plots compare two sequences by organizing one sequence on the x-axis, and another on the y-axis, of a plot.\n",
    "* When the residues of both sequences match at the same location on the plot, a dot is drawn at the corresponding position\n",
    "\n",
    "## usefulness\n",
    "* Dot plots can also be used to visually inspect sequences for\n",
    "* direct or inverted repeats\n",
    "* regions with low sequence complexity.\n",
    "* Similar regions\n",
    "* Repeated sequences\n",
    "* Sequence rearrangements\n",
    "* RNA structures\n",
    "* Gene orderM\n"
   ]
  },
  {
   "cell_type": "code",
   "execution_count": 21,
   "metadata": {},
   "outputs": [],
   "source": [
    "\n",
    "def delta(x,y):\n",
    "    return 0 if x == y else 1\n",
    "\n",
    "\n",
    "def M(seq1,seq2,i,j,k):\n",
    "    return sum(delta(x,y) for x,y in zip(seq1[i:i+k],seq2[j:j+k]))\n",
    "\n",
    "\n",
    "def makeMatrix(seq1,seq2,k):\n",
    "    n = len(seq1)\n",
    "    m = len(seq2)\n",
    "    return [[M(seq1,seq2,i,j,k) for j in range(m-k+1)] for i in range(n-k+1)]\n",
    "\n",
    "\n",
    "def plotMatrix(M,t, seq1, seq2, nonblank = chr(0x25A0), blank = ' '):\n",
    "    print(' |' + seq2)\n",
    "    print('-'*(2 + len(seq2)))\n",
    "    for label,row in zip(seq1,M):\n",
    "        line = ''.join(nonblank if s < t else blank for s in row)\n",
    "        print(label + '|' + line)\n",
    "\n",
    "\n",
    "def dotplot(seq1,seq2,k = 1,t = 1):\n",
    "    M = makeMatrix(seq1,seq2,k)\n",
    "    plotMatrix(M, t, seq1,seq2) #experiment with character choice"
   ]
  },
  {
   "cell_type": "code",
   "execution_count": 22,
   "metadata": {},
   "outputs": [
    {
     "name": "stdout",
     "output_type": "stream",
     "text": [
      " |AC\n",
      "----\n",
      "A|■ \n",
      "C| ■\n",
      "T|  \n",
      "C| ■\n",
      "G|  \n",
      "A|■ \n"
     ]
    }
   ],
   "source": [
    "# Do A dot plot\n",
    "dotplot(seq1, seq2)"
   ]
  },
  {
   "cell_type": "code",
   "execution_count": 23,
   "metadata": {},
   "outputs": [
    {
     "name": "stdout",
     "output_type": "stream",
     "text": [
      " |ACCTAG\n",
      "--------\n",
      "A|■   ■ \n",
      "C| ■■   \n",
      "C| ■■   \n",
      "T|   ■  \n",
      "A|■   ■ \n",
      "G|     ■\n"
     ]
    }
   ],
   "source": [
    "dotplot(Seq('ACCTAG'),Seq('ACCTAG')) ##  Identical proteins will obviously have a diagonal line in the center of the matrix. "
   ]
  },
  {
   "cell_type": "code",
   "execution_count": 24,
   "metadata": {},
   "outputs": [],
   "source": [
    "# Load data viz Pkgs\n",
    "import numpy as np\n",
    "import matplotlib.pyplot as plt"
   ]
  },
  {
   "cell_type": "code",
   "execution_count": 25,
   "metadata": {},
   "outputs": [
    {
     "data": {
      "image/png": "[encoded data removed]",
      "text/plain": [
       "<Figure size 432x288 with 1 Axes>"
      ]
     },
     "metadata": {
      "needs_background": "light"
     },
     "output_type": "display_data"
    }
   ],
   "source": [
    "# Add Some facnyness to it\n",
    "plt.imshow(np.array(makeMatrix(seq1,seq2,1)))\n",
    "xt=plt.xticks(np.arange(len(list(seq2))), list(seq2))\n",
    "yt=plt.yticks(np.arange(len(list(seq1))), list(seq1))\n",
    "plt.show()"
   ]
  },
  {
   "cell_type": "code",
   "execution_count": 26,
   "metadata": {},
   "outputs": [],
   "source": [
    "# Convert to Fxn\n",
    "def dotplotx(seq1,seq2):\n",
    "    plt.imshow(np.array(makeMatrix(seq1,seq2,1)))\n",
    "    # on x-axis list all sequences of seq 2\n",
    "    xt=plt.xticks(np.arange(len(list(seq2))),list(seq2))\n",
    "    # on y-axis list all sequences of seq 1\n",
    "    yt=plt.yticks(np.arange(len(list(seq1))),list(seq1))\n",
    "    plt.show()"
   ]
  },
  {
   "cell_type": "code",
   "execution_count": 27,
   "metadata": {},
   "outputs": [
    {
     "data": {
      "image/png": "[encoded data removed]",
      "text/plain": [
       "<Figure size 432x288 with 1 Axes>"
      ]
     },
     "metadata": {
      "needs_background": "light"
     },
     "output_type": "display_data"
    }
   ],
   "source": [
    "dotplotx(seq1,seq2)"
   ]
  },
  {
   "cell_type": "markdown",
   "metadata": {},
   "source": [
    "### Comparative of Covid, Sars,Merbs, Ebola\n",
    "* Covid19(SARS-CoV2) is a novel coronavirus identified as the cause of coronavirus disease 2019 (COVID-19) that began in Wuhan, China in late 2019 and spread worldwide.\n",
    "* MERS(MERS-CoV) was identified in 2012 as the cause of Middle East respiratory syndrome (MERS).\n",
    "* SARS(SARS-CoV) was identified in 2002 as the cause of an outbreak of severe acute respiratory syndrome (SARS).\n"
   ]
  },
  {
   "cell_type": "code",
   "execution_count": 28,
   "metadata": {},
   "outputs": [],
   "source": [
    "from Bio import SeqIO"
   ]
  },
  {
   "cell_type": "code",
   "execution_count": 29,
   "metadata": {},
   "outputs": [],
   "source": [
    "import os"
   ]
  },
  {
   "cell_type": "code",
   "execution_count": 30,
   "metadata": {},
   "outputs": [
    {
     "data": {
      "text/plain": [
       "'/home/phantom/jupyter_notebook'"
      ]
     },
     "execution_count": 30,
     "metadata": {},
     "output_type": "execute_result"
    }
   ],
   "source": [
    "os.getcwd()"
   ]
  },
  {
   "cell_type": "code",
   "execution_count": 31,
   "metadata": {},
   "outputs": [],
   "source": [
    "covid = SeqIO.read(\"Sarcov_Genome/human-sarcov2.fasta\",\"fasta\")\n",
    "pangolin = SeqIO.read(\"Sarcov_Genome/pangolin.fasta\",\"fasta\")\n",
    "bat_Ratc13 = SeqIO.read(\"Sarcov_Genome/bat-Ratc13.fasta\",\"fasta\")\n",
    "bat_Rs4231 = SeqIO.read(\"Sarcov_Genome/Bat-Rs4231.fasta\",\"fasta\")\n",
    "bat_beta = SeqIO.read(\"Sarcov_Genome/BtRs-BetaCoV-YN2018B.fasta\",\"fasta\")\n",
    "sars_urbani = SeqIO.read(\"Sarcov_Genome/SARS coronavirus Urbani.fasta\",\"fasta\")"
   ]
  },
  {
   "cell_type": "code",
   "execution_count": 32,
   "metadata": {},
   "outputs": [
    {
     "data": {
      "text/plain": [
       "SeqRecord(seq=Seq('ATTAAAGGTTTATACCTTCCCAGGTAACAAACCAACCAACTTTCGATCTCTTGT...AAA'), id='MN908947.3', name='MN908947.3', description='MN908947.3 Severe acute respiratory syndrome coronavirus 2 isolate Wuhan-Hu-1, complete genome', dbxrefs=[])"
      ]
     },
     "execution_count": 32,
     "metadata": {},
     "output_type": "execute_result"
    }
   ],
   "source": [
    "covid"
   ]
  },
  {
   "cell_type": "code",
   "execution_count": 33,
   "metadata": {},
   "outputs": [
    {
     "data": {
      "text/plain": [
       "SeqRecord(seq=Seq('CACGCAGTATAATTAATANNNNNNNNCTGTCGTTGACAGGACACGAGTAACTCG...CGA'), id='MT084071.1', name='MT084071.1', description='MT084071.1 Pangolin coronavirus isolate MP789 genomic sequence', dbxrefs=[])"
      ]
     },
     "execution_count": 33,
     "metadata": {},
     "output_type": "execute_result"
    }
   ],
   "source": [
    "pangolin"
   ]
  },
  {
   "cell_type": "code",
   "execution_count": 34,
   "metadata": {},
   "outputs": [
    {
     "data": {
      "text/plain": [
       "SeqRecord(seq=Seq('CTTTCCAGGTAACAAACCAACGAACTCTCGATCTCTTGTAGATCTGTTCTCTAA...AAA'), id='MN996532.1', name='MN996532.1', description='MN996532.1 Bat coronavirus RaTG13, complete genome', dbxrefs=[])"
      ]
     },
     "execution_count": 34,
     "metadata": {},
     "output_type": "execute_result"
    }
   ],
   "source": [
    "bat_Ratc13"
   ]
  },
  {
   "cell_type": "code",
   "execution_count": 35,
   "metadata": {},
   "outputs": [
    {
     "data": {
      "text/plain": [
       "SeqRecord(seq=Seq('ATATTAGGTTTTTACCTACCCAGGAAAAGCCAACCAACCTCGATCTCTTGTAGA...AAA'), id='KY417146.1', name='KY417146.1', description='KY417146.1 Bat SARS-like coronavirus isolate Rs4231, complete genome', dbxrefs=[])"
      ]
     },
     "execution_count": 35,
     "metadata": {},
     "output_type": "execute_result"
    }
   ],
   "source": [
    "bat_Rs4231"
   ]
  },
  {
   "cell_type": "code",
   "execution_count": 36,
   "metadata": {},
   "outputs": [
    {
     "data": {
      "text/plain": [
       "SeqRecord(seq=Seq('TTTTAGGTTTTTACCTACCCAGGAAAAGCCAACCAACCTCGATCTCTTGTAGAT...TCC'), id='MK211376.1', name='MK211376.1', description='MK211376.1 Coronavirus BtRs-BetaCoV/YN2018B, complete genome', dbxrefs=[])"
      ]
     },
     "execution_count": 36,
     "metadata": {},
     "output_type": "execute_result"
    }
   ],
   "source": [
    "bat_beta"
   ]
  },
  {
   "cell_type": "code",
   "execution_count": 37,
   "metadata": {},
   "outputs": [
    {
     "data": {
      "text/plain": [
       "SeqRecord(seq=Seq('ATATTAGGTTTTTACCTACCCAGGAAAAGCCAACCAACCTCGATCTCTTGTAGA...GAC'), id='AY278741.1', name='AY278741.1', description='AY278741.1 SARS coronavirus Urbani, complete genome', dbxrefs=[])"
      ]
     },
     "execution_count": 37,
     "metadata": {},
     "output_type": "execute_result"
    }
   ],
   "source": [
    "sars_urbani"
   ]
  },
  {
   "cell_type": "code",
   "execution_count": 38,
   "metadata": {},
   "outputs": [],
   "source": [
    "# Conver or get the sequences\n",
    "covid_seq = covid.seq\n",
    "pangolin_seq = pangolin.seq\n",
    "bat_Ratc13_seq = bat_Ratc13.seq\n",
    "bat_Rs4231_seq = bat_Rs4231.seq\n",
    "bat_beta_seq = bat_beta.seq\n",
    "sars_urbani_seq = sars_urbani.seq"
   ]
  },
  {
   "cell_type": "code",
   "execution_count": 39,
   "metadata": {},
   "outputs": [
    {
     "name": "stdout",
     "output_type": "stream",
     "text": [
      "Covid seq :  29903\n",
      "Pangolin seq :  27213\n",
      "Ratc13 seq :  29855\n",
      "Rs4231 seq :  29782\n",
      "Beta seq :  30256\n",
      "Urbani seq :  29727\n"
     ]
    }
   ],
   "source": [
    "print(\"Covid seq : \", len(covid_seq))\n",
    "print(\"Pangolin seq : \", len(pangolin_seq))\n",
    "print(\"Ratc13 seq : \", len(bat_Ratc13_seq))\n",
    "print(\"Rs4231 seq : \", len(bat_Rs4231_seq))\n",
    "print(\"Beta seq : \", len(bat_beta_seq))\n",
    "print(\"Urbani seq : \", len(sars_urbani_seq))"
   ]
  },
  {
   "cell_type": "code",
   "execution_count": 40,
   "metadata": {},
   "outputs": [],
   "source": [
    "#Check for the GC content\n",
    "from Bio.SeqUtils import GC"
   ]
  },
  {
   "cell_type": "code",
   "execution_count": 41,
   "metadata": {},
   "outputs": [
    {
     "name": "stdout",
     "output_type": "stream",
     "text": [
      "GC content of Covid seq :  37.97277865097148\n",
      "GC content of Covid seq :  35.66677690809539\n",
      "GC content of Covid seq :   38.037179701892484\n",
      "GC content of Covid seq :  40.95090994560473\n",
      "GC content of Covid seq :  40.84148598625066\n",
      "GC content of Covid seq :  40.797927809735256\n"
     ]
    }
   ],
   "source": [
    "print(\"GC content of Covid seq : \", GC(covid_seq))\n",
    "print(\"GC content of Covid seq : \", GC(pangolin_seq))\n",
    "print(\"GC content of Covid seq :  \", GC(bat_Ratc13_seq))\n",
    "print(\"GC content of Covid seq : \", GC(bat_Rs4231_seq))\n",
    "print(\"GC content of Covid seq : \", GC(bat_beta_seq))\n",
    "print(\"GC content of Covid seq : \", GC(sars_urbani_seq))"
   ]
  },
  {
   "cell_type": "code",
   "execution_count": 42,
   "metadata": {},
   "outputs": [
    {
     "name": "stderr",
     "output_type": "stream",
     "text": [
      "/home/phantom/anaconda3/lib/python3.8/site-packages/Bio/Seq.py:2334: BiopythonWarning: Partial codon, len(sequence) not a multiple of three. Explicitly trim the sequence or add trailing N before translation. This may become an error in future.\n",
      "  warnings.warn(\n"
     ]
    }
   ],
   "source": [
    "covid_protein = covid_seq.translate()\n",
    "pangolin_protein = pangolin_seq.translate()\n",
    "bat_Ratc13_protein = bat_Ratc13_seq.translate()\n",
    "bat_Rs4231_protein = bat_Rs4231_seq.translate()\n",
    "bat_beta_protein = bat_beta_seq.translate()\n",
    "sars_urbani_protein = sars_urbani_seq.translate()"
   ]
  },
  {
   "cell_type": "code",
   "execution_count": 43,
   "metadata": {},
   "outputs": [
    {
     "name": "stdout",
     "output_type": "stream",
     "text": [
      "Covid protein :  9967\n",
      "Pangolin protein :  9071\n",
      "Ratc13 protein :  9951\n",
      "Rs4231 protein :  9927\n",
      "Beta protein :  10085\n",
      "Urbani protein :  9909\n"
     ]
    }
   ],
   "source": [
    "print(\"Covid protein : \", len(covid_protein))\n",
    "print(\"Pangolin protein : \", len(pangolin_protein))\n",
    "print(\"Ratc13 protein : \", len(bat_Ratc13_protein))\n",
    "print(\"Rs4231 protein : \", len(bat_Rs4231_protein))\n",
    "print(\"Beta protein : \", len(bat_beta_protein))\n",
    "print(\"Urbani protein : \", len(sars_urbani_protein))"
   ]
  },
  {
   "cell_type": "markdown",
   "metadata": {},
   "source": [
    "### Check for the count of Amino Acids"
   ]
  },
  {
   "cell_type": "code",
   "execution_count": 44,
   "metadata": {},
   "outputs": [],
   "source": [
    "from Bio.SeqUtils.ProtParam import ProteinAnalysis"
   ]
  },
  {
   "cell_type": "code",
   "execution_count": 45,
   "metadata": {},
   "outputs": [],
   "source": [
    "covid_analysed = ProteinAnalysis(str(covid_protein))\n",
    "pangolin_analysed = ProteinAnalysis(str(pangolin_protein))\n",
    "bat_Ratc13_analysed = ProteinAnalysis(str(bat_Ratc13_protein))\n",
    "bat_Rs4231_analysed = ProteinAnalysis(str(bat_Rs4231_protein))\n",
    "bat_beta_analysed = ProteinAnalysis(str(bat_beta_protein))\n",
    "sars_urbani_analysed = ProteinAnalysis(str(sars_urbani_protein))"
   ]
  },
  {
   "cell_type": "code",
   "execution_count": 46,
   "metadata": {},
   "outputs": [
    {
     "data": {
      "text/plain": [
       "{'A': 375,\n",
       " 'C': 635,\n",
       " 'D': 290,\n",
       " 'E': 270,\n",
       " 'F': 593,\n",
       " 'G': 394,\n",
       " 'H': 332,\n",
       " 'I': 436,\n",
       " 'K': 413,\n",
       " 'L': 886,\n",
       " 'M': 117,\n",
       " 'N': 472,\n",
       " 'P': 292,\n",
       " 'Q': 325,\n",
       " 'R': 558,\n",
       " 'S': 810,\n",
       " 'T': 679,\n",
       " 'V': 548,\n",
       " 'W': 263,\n",
       " 'Y': 505}"
      ]
     },
     "execution_count": 46,
     "metadata": {},
     "output_type": "execute_result"
    }
   ],
   "source": [
    "# Check for the Frequence of AA\n",
    "covid_analysed.count_amino_acids()"
   ]
  },
  {
   "cell_type": "code",
   "execution_count": 47,
   "metadata": {},
   "outputs": [],
   "source": [
    "# method 2\n",
    "from collections import Counter"
   ]
  },
  {
   "cell_type": "code",
   "execution_count": 48,
   "metadata": {},
   "outputs": [],
   "source": [
    "covid_freq = Counter(covid_protein)\n",
    "pangolin_freq = Counter(pangolin_protein)\n",
    "bat_Ratc13_freq = Counter(bat_Ratc13_protein)\n",
    "bat_Rs4231_freq = Counter(bat_Rs4231_protein)\n",
    "bat_beta_freq = Counter(bat_beta_protein)\n",
    "sars_urbani_freq = Counter(sars_urbani_protein)\n"
   ]
  },
  {
   "cell_type": "code",
   "execution_count": 49,
   "metadata": {},
   "outputs": [
    {
     "data": {
      "text/plain": [
       "Counter({'I': 436,\n",
       "         'K': 413,\n",
       "         'G': 394,\n",
       "         'L': 886,\n",
       "         'Y': 505,\n",
       "         'P': 292,\n",
       "         'R': 558,\n",
       "         '*': 774,\n",
       "         'Q': 325,\n",
       "         'T': 679,\n",
       "         'N': 472,\n",
       "         'S': 810,\n",
       "         'C': 635,\n",
       "         'V': 548,\n",
       "         'F': 593,\n",
       "         'A': 375,\n",
       "         'H': 332,\n",
       "         'D': 290,\n",
       "         'E': 270,\n",
       "         'W': 263,\n",
       "         'M': 117})"
      ]
     },
     "execution_count": 49,
     "metadata": {},
     "output_type": "execute_result"
    }
   ],
   "source": [
    "covid_freq"
   ]
  },
  {
   "cell_type": "code",
   "execution_count": 50,
   "metadata": {},
   "outputs": [
    {
     "data": {
      "text/plain": [
       "[('L', 886),\n",
       " ('S', 810),\n",
       " ('*', 774),\n",
       " ('T', 679),\n",
       " ('C', 635),\n",
       " ('F', 593),\n",
       " ('R', 558),\n",
       " ('V', 548),\n",
       " ('Y', 505),\n",
       " ('N', 472)]"
      ]
     },
     "execution_count": 50,
     "metadata": {},
     "output_type": "execute_result"
    }
   ],
   "source": [
    "#Most common amino acid in Covid\n",
    "Counter(covid_protein).most_common(10)"
   ]
  },
  {
   "cell_type": "code",
   "execution_count": 51,
   "metadata": {},
   "outputs": [
    {
     "data": {
      "text/plain": [
       "[('L', 1070),\n",
       " ('X', 652),\n",
       " ('S', 603),\n",
       " ('T', 602),\n",
       " ('V', 581),\n",
       " ('I', 435),\n",
       " ('K', 415),\n",
       " ('*', 398),\n",
       " ('F', 395),\n",
       " ('N', 391)]"
      ]
     },
     "execution_count": 51,
     "metadata": {},
     "output_type": "execute_result"
    }
   ],
   "source": [
    "#Most common amino acid in Pangolin\n",
    "Counter(pangolin_protein).most_common(10)"
   ]
  },
  {
   "cell_type": "code",
   "execution_count": 52,
   "metadata": {},
   "outputs": [
    {
     "data": {
      "text/plain": [
       "[('L', 903),\n",
       " ('S', 829),\n",
       " ('*', 747),\n",
       " ('T', 673),\n",
       " ('C', 602),\n",
       " ('F', 575),\n",
       " ('R', 546),\n",
       " ('V', 540),\n",
       " ('Y', 531),\n",
       " ('N', 464)]"
      ]
     },
     "execution_count": 52,
     "metadata": {},
     "output_type": "execute_result"
    }
   ],
   "source": [
    "#Most common amino acid in Ratc13\n",
    "Counter(bat_Ratc13_protein).most_common(10)"
   ]
  },
  {
   "cell_type": "code",
   "execution_count": 53,
   "metadata": {},
   "outputs": [
    {
     "data": {
      "text/plain": [
       "[('L', 1174),\n",
       " ('S', 758),\n",
       " ('T', 724),\n",
       " ('V', 716),\n",
       " ('A', 588),\n",
       " ('I', 549),\n",
       " ('K', 503),\n",
       " ('G', 459),\n",
       " ('F', 454),\n",
       " ('N', 443)]"
      ]
     },
     "execution_count": 53,
     "metadata": {},
     "output_type": "execute_result"
    }
   ],
   "source": [
    "#Most common amino acid in Rs4231\n",
    "Counter(bat_Rs4231_protein).most_common(10)"
   ]
  },
  {
   "cell_type": "code",
   "execution_count": 54,
   "metadata": {},
   "outputs": [
    {
     "data": {
      "text/plain": [
       "[('L', 1444),\n",
       " ('S', 848),\n",
       " ('*', 726),\n",
       " ('T', 655),\n",
       " ('V', 622),\n",
       " ('C', 566),\n",
       " ('R', 561),\n",
       " ('I', 474),\n",
       " ('F', 447),\n",
       " ('Q', 424)]"
      ]
     },
     "execution_count": 54,
     "metadata": {},
     "output_type": "execute_result"
    }
   ],
   "source": [
    "#Most common amino acid in bat beta\n",
    "Counter(bat_beta_protein).most_common(10)"
   ]
  },
  {
   "cell_type": "code",
   "execution_count": 55,
   "metadata": {},
   "outputs": [
    {
     "data": {
      "text/plain": [
       "[('L', 1368),\n",
       " ('S', 738),\n",
       " ('T', 689),\n",
       " ('V', 684),\n",
       " ('A', 574),\n",
       " ('I', 566),\n",
       " ('K', 495),\n",
       " ('G', 438),\n",
       " ('F', 437),\n",
       " ('R', 417)]"
      ]
     },
     "execution_count": 55,
     "metadata": {},
     "output_type": "execute_result"
    }
   ],
   "source": [
    "#Most common amino acid in sars urbani\n",
    "Counter(sars_urbani_protein).most_common(10)"
   ]
  },
  {
   "cell_type": "code",
   "execution_count": 56,
   "metadata": {},
   "outputs": [
    {
     "data": {
      "text/plain": [
       "<BarContainer object of 21 artists>"
      ]
     },
     "execution_count": 56,
     "metadata": {},
     "output_type": "execute_result"
    },
    {
     "data": {
      "image/png": "[encoded data removed]",
      "text/plain": [
       "<Figure size 432x288 with 1 Axes>"
      ]
     },
     "metadata": {
      "needs_background": "light"
     },
     "output_type": "display_data"
    }
   ],
   "source": [
    "# Plot the Amino acids\n",
    "plt.bar(covid_freq.keys(), covid_freq.values())"
   ]
  },
  {
   "cell_type": "code",
   "execution_count": 57,
   "metadata": {},
   "outputs": [
    {
     "data": {
      "text/plain": [
       "<BarContainer object of 22 artists>"
      ]
     },
     "execution_count": 57,
     "metadata": {},
     "output_type": "execute_result"
    },
    {
     "data": {
      "image/png": "[encoded data removed]",
      "text/plain": [
       "<Figure size 432x288 with 1 Axes>"
      ]
     },
     "metadata": {
      "needs_background": "light"
     },
     "output_type": "display_data"
    }
   ],
   "source": [
    "# Plot the Amino acids\n",
    "plt.bar(pangolin_freq.keys(), pangolin_freq.values())"
   ]
  },
  {
   "cell_type": "code",
   "execution_count": 58,
   "metadata": {},
   "outputs": [
    {
     "data": {
      "text/plain": [
       "<BarContainer object of 21 artists>"
      ]
     },
     "execution_count": 58,
     "metadata": {},
     "output_type": "execute_result"
    },
    {
     "data": {
      "image/png": "[encoded data removed]",
      "text/plain": [
       "<Figure size 432x288 with 1 Axes>"
      ]
     },
     "metadata": {
      "needs_background": "light"
     },
     "output_type": "display_data"
    }
   ],
   "source": [
    "# Plot the Amino acids\n",
    "plt.bar(bat_Ratc13_freq.keys(), bat_Ratc13_freq.values())"
   ]
  },
  {
   "cell_type": "code",
   "execution_count": 59,
   "metadata": {},
   "outputs": [
    {
     "data": {
      "text/plain": [
       "<BarContainer object of 21 artists>"
      ]
     },
     "execution_count": 59,
     "metadata": {},
     "output_type": "execute_result"
    },
    {
     "data": {
      "image/png": "[encoded data removed]",
      "text/plain": [
       "<Figure size 432x288 with 1 Axes>"
      ]
     },
     "metadata": {
      "needs_background": "light"
     },
     "output_type": "display_data"
    }
   ],
   "source": [
    "# Plot the Amino acids\n",
    "plt.bar(bat_Rs4231_freq.keys(), bat_Rs4231_freq.values())"
   ]
  },
  {
   "cell_type": "code",
   "execution_count": 60,
   "metadata": {},
   "outputs": [
    {
     "data": {
      "text/plain": [
       "<BarContainer object of 21 artists>"
      ]
     },
     "execution_count": 60,
     "metadata": {},
     "output_type": "execute_result"
    },
    {
     "data": {
      "image/png": "[encoded data removed]",
      "text/plain": [
       "<Figure size 432x288 with 1 Axes>"
      ]
     },
     "metadata": {
      "needs_background": "light"
     },
     "output_type": "display_data"
    }
   ],
   "source": [
    "# Plot the Amino acids\n",
    "plt.bar(bat_beta_freq.keys(), bat_beta_freq.values())"
   ]
  },
  {
   "cell_type": "code",
   "execution_count": 61,
   "metadata": {},
   "outputs": [
    {
     "data": {
      "text/plain": [
       "<BarContainer object of 21 artists>"
      ]
     },
     "execution_count": 61,
     "metadata": {},
     "output_type": "execute_result"
    },
    {
     "data": {
      "image/png": "[encoded data removed]",
      "text/plain": [
       "<Figure size 432x288 with 1 Axes>"
      ]
     },
     "metadata": {
      "needs_background": "light"
     },
     "output_type": "display_data"
    }
   ],
   "source": [
    "# Plot the Amino acids\n",
    "plt.bar(sars_urbani_freq.keys(),sars_urbani_freq.values())"
   ]
  },
  {
   "cell_type": "code",
   "execution_count": 62,
   "metadata": {},
   "outputs": [],
   "source": [
    "# Check for the modecular wieght"
   ]
  },
  {
   "cell_type": "markdown",
   "metadata": {},
   "source": [
    "### Dot Plot"
   ]
  },
  {
   "cell_type": "code",
   "execution_count": 63,
   "metadata": {},
   "outputs": [
    {
     "name": "stdout",
     "output_type": "stream",
     "text": [
      " |CACGCAGTAT\n",
      "------------\n",
      "A| ■   ■  ■ \n",
      "T|       ■ ■\n",
      "T|       ■ ■\n",
      "A| ■   ■  ■ \n",
      "A| ■   ■  ■ \n",
      "A| ■   ■  ■ \n",
      "G|   ■  ■   \n",
      "G|   ■  ■   \n",
      "T|       ■ ■\n",
      "T|       ■ ■\n"
     ]
    }
   ],
   "source": [
    "# compare covid and pangolin\n",
    "dotplot(covid_seq[0:10],pangolin_seq[0:10])"
   ]
  },
  {
   "cell_type": "code",
   "execution_count": 64,
   "metadata": {},
   "outputs": [],
   "source": [
    "# pairwise alignment"
   ]
  },
  {
   "cell_type": "code",
   "execution_count": 77,
   "metadata": {},
   "outputs": [],
   "source": [
    "conv_n_pangolind = pairwise2.align.globalxx(covid_seq,pangolin_seq,one_alignment_only=True,score_only=True)"
   ]
  },
  {
   "cell_type": "code",
   "execution_count": 79,
   "metadata": {},
   "outputs": [
    {
     "data": {
      "text/plain": [
       "23302.0"
      ]
     },
     "execution_count": 79,
     "metadata": {},
     "output_type": "execute_result"
    }
   ],
   "source": [
    "conv_n_pangolind"
   ]
  },
  {
   "cell_type": "code",
   "execution_count": 80,
   "metadata": {},
   "outputs": [
    {
     "data": {
      "text/plain": [
       "77.92529177674481"
      ]
     },
     "execution_count": 80,
     "metadata": {},
     "output_type": "execute_result"
    }
   ],
   "source": [
    "conv_n_pangolind/len(covid_seq)*100"
   ]
  },
  {
   "cell_type": "code",
   "execution_count": 71,
   "metadata": {},
   "outputs": [],
   "source": [
    "conv_n_batRtc13 = pairwise2.align.globalxx(covid_seq[0:100],bat_Ratc13_seq[0:100],one_alignment_only=True,score_only=True)"
   ]
  },
  {
   "cell_type": "code",
   "execution_count": 72,
   "metadata": {},
   "outputs": [
    {
     "data": {
      "text/plain": [
       "81.0"
      ]
     },
     "execution_count": 72,
     "metadata": {},
     "output_type": "execute_result"
    }
   ],
   "source": [
    "conv_n_batRtc13"
   ]
  },
  {
   "cell_type": "code",
   "execution_count": 81,
   "metadata": {},
   "outputs": [
    {
     "data": {
      "text/plain": [
       "82.90138113232786"
      ]
     },
     "execution_count": 81,
     "metadata": {},
     "output_type": "execute_result"
    }
   ],
   "source": [
    "conv_n_batRs4231/len(covid_seq)*100"
   ]
  },
  {
   "cell_type": "code",
   "execution_count": 75,
   "metadata": {},
   "outputs": [],
   "source": [
    "conv_n_batRs4231 = pairwise2.align.globalxx(covid_seq,bat_Rs4231_seq,one_alignment_only=True,score_only=True)"
   ]
  },
  {
   "cell_type": "code",
   "execution_count": 76,
   "metadata": {},
   "outputs": [
    {
     "data": {
      "text/plain": [
       "24790.0"
      ]
     },
     "execution_count": 76,
     "metadata": {},
     "output_type": "execute_result"
    }
   ],
   "source": [
    "conv_n_batRs4231"
   ]
  },
  {
   "cell_type": "markdown",
   "metadata": {},
   "source": [
    "### 3D structure"
   ]
  },
  {
   "cell_type": "code",
   "execution_count": 93,
   "metadata": {},
   "outputs": [],
   "source": [
    "from Bio.PDB import PDBParser,MMCIFParser"
   ]
  },
  {
   "cell_type": "code",
   "execution_count": 94,
   "metadata": {},
   "outputs": [],
   "source": [
    "parser = PDBParser()"
   ]
  },
  {
   "cell_type": "code",
   "execution_count": 95,
   "metadata": {},
   "outputs": [
    {
     "name": "stderr",
     "output_type": "stream",
     "text": [
      "/home/phantom/anaconda3/lib/python3.8/site-packages/Bio/PDB/PDBParser.py:395: PDBConstructionWarning: Ignoring unrecognized record 'MODEL' at line 2475\n",
      "  warnings.warn(\n",
      "/home/phantom/anaconda3/lib/python3.8/site-packages/Bio/PDB/PDBParser.py:395: PDBConstructionWarning: Ignoring unrecognized record 'MODEL' at line 2527\n",
      "  warnings.warn(\n",
      "/home/phantom/anaconda3/lib/python3.8/site-packages/Bio/PDB/PDBParser.py:395: PDBConstructionWarning: Ignoring unrecognized record 'MODEL' at line 4897\n",
      "  warnings.warn(\n"
     ]
    }
   ],
   "source": [
    "covid_structure = parser.get_structure(\"6UL7\", \"6LU7.pdb\")"
   ]
  },
  {
   "cell_type": "code",
   "execution_count": 96,
   "metadata": {},
   "outputs": [
    {
     "data": {
      "text/plain": [
       "4"
      ]
     },
     "execution_count": 96,
     "metadata": {},
     "output_type": "execute_result"
    }
   ],
   "source": [
    "len(covid_structure)"
   ]
  },
  {
   "cell_type": "code",
   "execution_count": 97,
   "metadata": {},
   "outputs": [],
   "source": [
    "import nglview as nv"
   ]
  },
  {
   "cell_type": "code",
   "execution_count": 98,
   "metadata": {},
   "outputs": [],
   "source": [
    "view_covid = nv.show_biopython(covid_structure)"
   ]
  },
  {
   "cell_type": "code",
   "execution_count": 99,
   "metadata": {},
   "outputs": [
    {
     "data": {
      "application/vnd.jupyter.widget-view+json": {
       "model_id": "b22c8f59fee24d15ac80e771a9c18296",
       "version_major": 2,
       "version_minor": 0
      },
      "text/plain": [
       "NGLWidget()"
      ]
     },
     "metadata": {},
     "output_type": "display_data"
    }
   ],
   "source": [
    "view_covid"
   ]
  },
  {
   "cell_type": "code",
   "execution_count": 101,
   "metadata": {},
   "outputs": [],
   "source": [
    "import py3Dmol"
   ]
  },
  {
   "cell_type": "code",
   "execution_count": 102,
   "metadata": {},
   "outputs": [],
   "source": [
    "view1 = py3Dmol.view(query='pdb:6LU7')"
   ]
  },
  {
   "cell_type": "code",
   "execution_count": 105,
   "metadata": {},
   "outputs": [
    {
     "data": {
      "application/3dmoljs_load.v0": "<div id=\"3dmolviewer_1604329734931103\"  style=\"position: relative; width: 640px; height: 480px\">\n        <p id=\"3dmolwarning_1604329734931103\" style=\"background-color:#ffcccc;color:black\">You appear to be running in JupyterLab (or JavaScript failed to load for some other reason).  You need to install the 3dmol extension: <br>\n        <tt>jupyter labextension install jupyterlab_3dmol</tt></p>\n        </div>\n<script>\n\nvar loadScriptAsync = function(uri){\n  return new Promise((resolve, reject) => {\n    var tag = document.createElement('script');\n    tag.src = uri;\n    tag.async = true;\n    tag.onload = () => {\n      resolve();\n    };\n  var firstScriptTag = document.getElementsByTagName('script')[0];\n  firstScriptTag.parentNode.insertBefore(tag, firstScriptTag);\n});\n};\n\nif(typeof $3Dmolpromise === 'undefined') {\n$3Dmolpromise = null;\n  $3Dmolpromise = loadScriptAsync('https://3dmol.csb.pitt.edu/build/3Dmol.js');\n}\n\nvar viewer_1604329734931103 = null;\nvar warn = document.getElementById(\"3dmolwarning_1604329734931103\");\nif(warn) {\n    warn.parentNode.removeChild(warn);\n}\n$3Dmolpromise.then(function() {\nviewer_1604329734931103 = $3Dmol.createViewer($(\"#3dmolviewer_1604329734931103\"),{backgroundColor:\"white\"});\n$3Dmol.download(\"pdb:6LU7\", viewer_1604329734931103, {}, function() {\n\tviewer_1604329734931103.setStyle({\"cartoon\": {\"color\": \"spectrum\"}});\n\tviewer_1604329734931103.setStyle({\"cartoon\": {\"color\": \"spectrum\"}});\n\tviewer_1604329734931103.setStyle({\"cartoon\": {\"color\": \"spectrum\"}});\nviewer_1604329734931103.render();\n})\n});\n</script>",
      "text/html": [
       "<div id=\"3dmolviewer_1604329734931103\"  style=\"position: relative; width: 640px; height: 480px\">\n",
       "        <p id=\"3dmolwarning_1604329734931103\" style=\"background-color:#ffcccc;color:black\">You appear to be running in JupyterLab (or JavaScript failed to load for some other reason).  You need to install the 3dmol extension: <br>\n",
       "        <tt>jupyter labextension install jupyterlab_3dmol</tt></p>\n",
       "        </div>\n",
       "<script>\n",
       "\n",
       "var loadScriptAsync = function(uri){\n",
       "  return new Promise((resolve, reject) => {\n",
       "    var tag = document.createElement('script');\n",
       "    tag.src = uri;\n",
       "    tag.async = true;\n",
       "    tag.onload = () => {\n",
       "      resolve();\n",
       "    };\n",
       "  var firstScriptTag = document.getElementsByTagName('script')[0];\n",
       "  firstScriptTag.parentNode.insertBefore(tag, firstScriptTag);\n",
       "});\n",
       "};\n",
       "\n",
       "if(typeof $3Dmolpromise === 'undefined') {\n",
       "$3Dmolpromise = null;\n",
       "  $3Dmolpromise = loadScriptAsync('https://3dmol.csb.pitt.edu/build/3Dmol.js');\n",
       "}\n",
       "\n",
       "var viewer_1604329734931103 = null;\n",
       "var warn = document.getElementById(\"3dmolwarning_1604329734931103\");\n",
       "if(warn) {\n",
       "    warn.parentNode.removeChild(warn);\n",
       "}\n",
       "$3Dmolpromise.then(function() {\n",
       "viewer_1604329734931103 = $3Dmol.createViewer($(\"#3dmolviewer_1604329734931103\"),{backgroundColor:\"white\"});\n",
       "$3Dmol.download(\"pdb:6LU7\", viewer_1604329734931103, {}, function() {\n",
       "\tviewer_1604329734931103.setStyle({\"cartoon\": {\"color\": \"spectrum\"}});\n",
       "\tviewer_1604329734931103.setStyle({\"cartoon\": {\"color\": \"spectrum\"}});\n",
       "\tviewer_1604329734931103.setStyle({\"cartoon\": {\"color\": \"spectrum\"}});\n",
       "viewer_1604329734931103.render();\n",
       "})\n",
       "});\n",
       "</script>"
      ]
     },
     "metadata": {},
     "output_type": "display_data"
    },
    {
     "data": {
      "text/plain": [
       "<py3Dmol.view at 0x7f35bb435ee0>"
      ]
     },
     "execution_count": 105,
     "metadata": {},
     "output_type": "execute_result"
    }
   ],
   "source": [
    "view1.setStyle({'cartoon':{'color':'spectrum'}})\n",
    "view1"
   ]
  },
  {
   "cell_type": "code",
   "execution_count": 106,
   "metadata": {},
   "outputs": [
    {
     "data": {
      "text/plain": [
       "['__class__',\n",
       " '__delattr__',\n",
       " '__dict__',\n",
       " '__dir__',\n",
       " '__doc__',\n",
       " '__eq__',\n",
       " '__format__',\n",
       " '__ge__',\n",
       " '__getattr__',\n",
       " '__getattribute__',\n",
       " '__gt__',\n",
       " '__hash__',\n",
       " '__init__',\n",
       " '__init_subclass__',\n",
       " '__le__',\n",
       " '__lt__',\n",
       " '__module__',\n",
       " '__ne__',\n",
       " '__new__',\n",
       " '__reduce__',\n",
       " '__reduce_ex__',\n",
       " '__repr__',\n",
       " '__setattr__',\n",
       " '__sizeof__',\n",
       " '__str__',\n",
       " '__subclasshook__',\n",
       " '__weakref__',\n",
       " '_make_html',\n",
       " '_repr_html_',\n",
       " 'getModel',\n",
       " 'insert',\n",
       " 'model',\n",
       " 'png',\n",
       " 'show',\n",
       " 'update']"
      ]
     },
     "execution_count": 106,
     "metadata": {},
     "output_type": "execute_result"
    }
   ],
   "source": [
    "dir(py3Dmol.view)\n"
   ]
  },
  {
   "cell_type": "code",
   "execution_count": 108,
   "metadata": {},
   "outputs": [],
   "source": [
    "view_covid.render_image()"
   ]
  },
  {
   "cell_type": "code",
   "execution_count": 110,
   "metadata": {},
   "outputs": [
    {
     "data": {
      "image/png": "\n",
      "text/plain": [
       "<IPython.core.display.Image object>"
      ]
     },
     "execution_count": 110,
     "metadata": {},
     "output_type": "execute_result"
    }
   ],
   "source": [
    "view_covid._display_image()"
   ]
  },
  {
   "cell_type": "code",
   "execution_count": null,
   "metadata": {},
   "outputs": [],
   "source": []
  }
 ],
 "metadata": {
  "kernelspec": {
   "display_name": "Python 3",
   "language": "python",
   "name": "python3"
  },
  "language_info": {
   "codemirror_mode": {
    "name": "ipython",
    "version": 3
   },
   "file_extension": ".py",
   "mimetype": "text/x-python",
   "name": "python",
   "nbconvert_exporter": "python",
   "pygments_lexer": "ipython3",
   "version": "3.8.3"
  }
 },
 "nbformat": 4,
 "nbformat_minor": 4
}
